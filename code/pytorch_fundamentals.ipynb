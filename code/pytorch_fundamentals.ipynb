{
  "nbformat": 4,
  "nbformat_minor": 0,
  "metadata": {
    "colab": {
      "provenance": [],
      "toc_visible": true
    },
    "kernelspec": {
      "name": "python3",
      "display_name": "Python 3"
    },
    "language_info": {
      "name": "python"
    }
  },
  "cells": [
    {
      "cell_type": "code",
      "execution_count": 17,
      "metadata": {
        "id": "q9gZjAH1v06b"
      },
      "outputs": [],
      "source": [
        "import torch\n",
        "import numpy as np"
      ]
    },
    {
      "cell_type": "markdown",
      "source": [
        "Documentation reference: https://www.learnpytorch.io/00_pytorch_fundamentals/"
      ],
      "metadata": {
        "id": "A1c-QqU87FRq"
      }
    },
    {
      "cell_type": "markdown",
      "source": [
        "# Introduction to Tensors"
      ],
      "metadata": {
        "id": "a4kkYMguv_Y0"
      }
    },
    {
      "cell_type": "markdown",
      "source": [
        "Tensors are a way of representing our input data in a format which is accepted by the model."
      ],
      "metadata": {
        "id": "IVymzs0QwB3j"
      }
    },
    {
      "cell_type": "markdown",
      "source": [
        "## Types of tensors"
      ],
      "metadata": {
        "id": "3uyMCR9MkcSY"
      }
    },
    {
      "cell_type": "code",
      "source": [
        "print(\"\\n0D - Tensor (Scalar)\")\n",
        "tensor_0d = torch.tensor(4)\n",
        "print(tensor_0d)\n",
        "print(f\"number of dimensions: {tensor_0d.ndim}\")\n",
        "\n",
        "print(\"\\n1D - Tensor (Array)\")\n",
        "tensor_1d = torch.tensor([4, 2, 3])\n",
        "print(tensor_1d)\n",
        "print(f\"number of dimensions: {tensor_1d.ndim}\")\n",
        "\n",
        "print(\"\\n2D - Tensor (Matrix)\")\n",
        "tensor_2d = torch.tensor([[4, 2, 3], [4, 2, 3], [4, 2, 3]])\n",
        "print(tensor_2d)\n",
        "print(f\"number of dimensions: {tensor_2d.ndim}\")\n",
        "\n",
        "print(\"\\n3D - Tensor (Stack of Matrices)\")\n",
        "tensor_3d = torch.tensor([[[4, 2, 3], [4, 2, 3], [4, 2, 3]], [[4, 2, 3], [4, 2, 3], [4, 2, 3]]])\n",
        "print(tensor_3d)\n",
        "print(f\"number of dimensions: {tensor_3d.ndim}\")"
      ],
      "metadata": {
        "colab": {
          "base_uri": "https://localhost:8080/"
        },
        "id": "NbIoBSn5v-ks",
        "outputId": "af5cd11f-0d2a-4d26-85f1-633eea2effcd"
      },
      "execution_count": null,
      "outputs": [
        {
          "output_type": "stream",
          "name": "stdout",
          "text": [
            "\n",
            "0D - Tensor (Scalar)\n",
            "tensor(4)\n",
            "number of dimensions: 0\n",
            "\n",
            "1D - Tensor (Array)\n",
            "tensor([4, 2, 3])\n",
            "number of dimensions: 1\n",
            "\n",
            "2D - Tensor (Matrix)\n",
            "tensor([[4, 2, 3],\n",
            "        [4, 2, 3],\n",
            "        [4, 2, 3]])\n",
            "number of dimensions: 2\n",
            "\n",
            "3D - Tensor (Stack of Matrices)\n",
            "tensor([[[4, 2, 3],\n",
            "         [4, 2, 3],\n",
            "         [4, 2, 3]],\n",
            "\n",
            "        [[4, 2, 3],\n",
            "         [4, 2, 3],\n",
            "         [4, 2, 3]]])\n",
            "number of dimensions: 3\n"
          ]
        }
      ]
    },
    {
      "cell_type": "markdown",
      "source": [
        "Example of an input image being represented as a tensor."
      ],
      "metadata": {
        "id": "kg4PEhYxydZB"
      }
    },
    {
      "cell_type": "code",
      "source": [
        "import requests\n",
        "from io import BytesIO\n",
        "from PIL import Image\n",
        "import numpy as np\n",
        "\n",
        "image_address = \"https://w0.peakpx.com/wallpaper/461/355/HD-wallpaper-samsung-galaxy-s4-galaxy-s4-samsung.jpg\"\n",
        "response = requests.get(image_address)\n",
        "image_pil = Image.open(BytesIO(response.content))\n",
        "image_pil = image_pil.resize((112, 224))\n",
        "\n",
        "print(torch.tensor(np.array(image_pil)).shape)\n",
        "print(torch.tensor(np.array(image_pil)))\n",
        "image_pil"
      ],
      "metadata": {
        "colab": {
          "base_uri": "https://localhost:8080/",
          "height": 1000
        },
        "id": "RnkvZ7YtwNJ6",
        "outputId": "2684fd07-8b67-497d-d7ba-f13f92fb8bf4"
      },
      "execution_count": null,
      "outputs": [
        {
          "output_type": "stream",
          "name": "stdout",
          "text": [
            "torch.Size([224, 112, 3])\n",
            "tensor([[[  0,  89, 167],\n",
            "         [  0,  89, 167],\n",
            "         [  0,  89, 167],\n",
            "         ...,\n",
            "         [  1,  88, 167],\n",
            "         [  1,  88, 167],\n",
            "         [  1,  88, 167]],\n",
            "\n",
            "        [[  0,  90, 166],\n",
            "         [  0,  90, 166],\n",
            "         [  0,  90, 168],\n",
            "         ...,\n",
            "         [  0,  89, 166],\n",
            "         [  0,  89, 167],\n",
            "         [  0,  89, 167]],\n",
            "\n",
            "        [[  0,  90, 167],\n",
            "         [  0,  90, 167],\n",
            "         [  0,  90, 168],\n",
            "         ...,\n",
            "         [  0,  89, 166],\n",
            "         [  0,  89, 167],\n",
            "         [  0,  89, 167]],\n",
            "\n",
            "        ...,\n",
            "\n",
            "        [[ 24,  38,   1],\n",
            "         [ 26,  43,   2],\n",
            "         [ 27,  44,   1],\n",
            "         ...,\n",
            "         [ 18,  33,   0],\n",
            "         [ 18,  32,   0],\n",
            "         [ 23,  38,   0]],\n",
            "\n",
            "        [[ 19,  33,   1],\n",
            "         [ 19,  33,   2],\n",
            "         [ 26,  41,   2],\n",
            "         ...,\n",
            "         [ 40,  54,  23],\n",
            "         [ 38,  51,  23],\n",
            "         [ 38,  48,  24]],\n",
            "\n",
            "        [[ 22,  34,   3],\n",
            "         [ 20,  32,   2],\n",
            "         [ 26,  41,   2],\n",
            "         ...,\n",
            "         [ 89,  99,  72],\n",
            "         [ 97, 107,  81],\n",
            "         [ 92, 101,  81]]], dtype=torch.uint8)\n"
          ]
        },
        {
          "output_type": "execute_result",
          "data": {
            "text/plain": [
              "<PIL.Image.Image image mode=RGB size=112x224>"
            ],
            "image/png": "[encoded data removed]",
            "image/jpeg": "[encoded data removed]"
          },
          "metadata": {},
          "execution_count": 47
        }
      ]
    },
    {
      "cell_type": "markdown",
      "source": [
        "## Random tensors"
      ],
      "metadata": {
        "id": "7ephOl7slCEO"
      }
    },
    {
      "cell_type": "markdown",
      "source": [
        "We can use the rand method and specify the output tensor shape to get a tensor with each value ranging from 0-1."
      ],
      "metadata": {
        "id": "zddVEZ2ZlL-d"
      }
    },
    {
      "cell_type": "code",
      "source": [
        "random_tensor = torch.rand(3, 2, 6)\n",
        "random_tensor"
      ],
      "metadata": {
        "id": "e87hXfG-zPht",
        "colab": {
          "base_uri": "https://localhost:8080/"
        },
        "outputId": "09043e25-83a2-485f-a5fe-3643240d6e02"
      },
      "execution_count": null,
      "outputs": [
        {
          "output_type": "execute_result",
          "data": {
            "text/plain": [
              "tensor([[[0.1177, 0.7020, 0.0798, 0.4521, 0.9291, 0.9384],\n",
              "         [0.8806, 0.5418, 0.0946, 0.1856, 0.2688, 0.6633]],\n",
              "\n",
              "        [[0.0178, 0.0465, 0.0854, 0.0610, 0.9050, 0.5239],\n",
              "         [0.9472, 0.3534, 0.3687, 0.4610, 0.3148, 0.7530]],\n",
              "\n",
              "        [[0.1413, 0.5961, 0.4591, 0.3389, 0.8517, 0.6296],\n",
              "         [0.5626, 0.2887, 0.7632, 0.2113, 0.9613, 0.3329]]])"
            ]
          },
          "metadata": {},
          "execution_count": 10
        }
      ]
    },
    {
      "cell_type": "markdown",
      "source": [
        "If we want to change the default range, we can use the 'randint' method."
      ],
      "metadata": {
        "id": "07cUnXzu4IQI"
      }
    },
    {
      "cell_type": "code",
      "source": [
        "random_tensor = torch.randint(low=0, high=10, size=(3, 2, 6))\n",
        "random_tensor"
      ],
      "metadata": {
        "colab": {
          "base_uri": "https://localhost:8080/"
        },
        "id": "pKTqbkXD4QOt",
        "outputId": "05500377-fc35-4fc3-8e60-a5e8698a9581"
      },
      "execution_count": null,
      "outputs": [
        {
          "output_type": "execute_result",
          "data": {
            "text/plain": [
              "tensor([[[5, 3, 2, 1, 0, 2],\n",
              "         [4, 5, 4, 6, 0, 7]],\n",
              "\n",
              "        [[4, 3, 0, 3, 5, 1],\n",
              "         [1, 0, 0, 4, 9, 8]],\n",
              "\n",
              "        [[1, 0, 8, 8, 6, 2],\n",
              "         [1, 9, 7, 7, 1, 4]]])"
            ]
          },
          "metadata": {},
          "execution_count": 6
        }
      ]
    },
    {
      "cell_type": "markdown",
      "source": [
        "## Creating tensors consisting of 0s and 1s"
      ],
      "metadata": {
        "id": "3WMSVxUN3sOO"
      }
    },
    {
      "cell_type": "code",
      "source": [
        "torch.zeros(3, 3)"
      ],
      "metadata": {
        "colab": {
          "base_uri": "https://localhost:8080/"
        },
        "id": "EqJFDHyQ3iEM",
        "outputId": "38580b4f-a9af-4ba7-9575-15d67ea4db0a"
      },
      "execution_count": null,
      "outputs": [
        {
          "output_type": "execute_result",
          "data": {
            "text/plain": [
              "tensor([[0., 0., 0.],\n",
              "        [0., 0., 0.],\n",
              "        [0., 0., 0.]])"
            ]
          },
          "metadata": {},
          "execution_count": 3
        }
      ]
    },
    {
      "cell_type": "code",
      "source": [
        "torch.ones(3, 3)"
      ],
      "metadata": {
        "colab": {
          "base_uri": "https://localhost:8080/"
        },
        "id": "gB9t8BGg36mk",
        "outputId": "a152b9bb-0b1a-47d5-91c8-08870e1d32e2"
      },
      "execution_count": null,
      "outputs": [
        {
          "output_type": "execute_result",
          "data": {
            "text/plain": [
              "tensor([[1., 1., 1.],\n",
              "        [1., 1., 1.],\n",
              "        [1., 1., 1.]])"
            ]
          },
          "metadata": {},
          "execution_count": 4
        }
      ]
    },
    {
      "cell_type": "markdown",
      "source": [
        "## arange function"
      ],
      "metadata": {
        "id": "FjsCLhna4fjl"
      }
    },
    {
      "cell_type": "markdown",
      "source": [
        "If we want to create a 1D tensor (array) using start, stop, step, use use torch.range() method."
      ],
      "metadata": {
        "id": "SwT1StRM4qsB"
      }
    },
    {
      "cell_type": "code",
      "source": [
        "torch.arange(0, 10)"
      ],
      "metadata": {
        "colab": {
          "base_uri": "https://localhost:8080/"
        },
        "id": "DAOF3SwU4joU",
        "outputId": "6f6d931f-6251-4b57-c97a-e71f994fdd4b"
      },
      "execution_count": null,
      "outputs": [
        {
          "output_type": "execute_result",
          "data": {
            "text/plain": [
              "tensor([0, 1, 2, 3, 4, 5, 6, 7, 8, 9])"
            ]
          },
          "metadata": {},
          "execution_count": 16
        }
      ]
    },
    {
      "cell_type": "code",
      "source": [
        "torch.arange(20, 0, -2)"
      ],
      "metadata": {
        "colab": {
          "base_uri": "https://localhost:8080/"
        },
        "id": "tWHjEPsL41QG",
        "outputId": "b1fd3a2f-90c8-4aaa-c5e3-1c6f3a1c719a"
      },
      "execution_count": null,
      "outputs": [
        {
          "output_type": "execute_result",
          "data": {
            "text/plain": [
              "tensor([20, 18, 16, 14, 12, 10,  8,  6,  4,  2])"
            ]
          },
          "metadata": {},
          "execution_count": 17
        }
      ]
    },
    {
      "cell_type": "markdown",
      "source": [
        "Task: Create a 3x3 matrix having values 1-9."
      ],
      "metadata": {
        "id": "nc1s7_Hd5RAW"
      }
    },
    {
      "cell_type": "code",
      "source": [
        "torch.stack([torch.arange(1, 4), torch.arange(4, 7), torch.arange(7, 10)])"
      ],
      "metadata": {
        "colab": {
          "base_uri": "https://localhost:8080/"
        },
        "id": "EvtPGzRS5IZI",
        "outputId": "7bacff15-9e55-4f4c-fc2c-9211e2bda21e"
      },
      "execution_count": null,
      "outputs": [
        {
          "output_type": "execute_result",
          "data": {
            "text/plain": [
              "tensor([[1, 2, 3],\n",
              "        [4, 5, 6],\n",
              "        [7, 8, 9]])"
            ]
          },
          "metadata": {},
          "execution_count": 18
        }
      ]
    },
    {
      "cell_type": "markdown",
      "source": [
        "We will learn about stack() method later."
      ],
      "metadata": {
        "id": "OoSq3Wr16QBd"
      }
    },
    {
      "cell_type": "markdown",
      "source": [],
      "metadata": {
        "id": "lm62yeWG9Yw-"
      }
    },
    {
      "cell_type": "markdown",
      "source": [
        "## Tensor datatypes"
      ],
      "metadata": {
        "id": "C92vdjhi6eDM"
      }
    },
    {
      "cell_type": "markdown",
      "source": [
        "Nothing much to code here as this is more of a theoretical topic. For detailed information on this topic, please refer to the reference link on top.\n",
        "\n",
        "In majority of the cases, we go with the default float32 datatype. However, to summarise this topic,\n",
        "\n",
        "1) **Use less precision datatypes** if you are training a big model and low hardware resources are available. Slightly less information is stored in the model during training.\n",
        "\n",
        "2) **Use more precision datatypes** if hardware is not an isssue. Works well in training model with more complex data but takes more time."
      ],
      "metadata": {
        "id": "Ptffq4JC7WRt"
      }
    },
    {
      "cell_type": "code",
      "source": [
        "# Default datatype for tensors is float32\n",
        "float_32_tensor = torch.tensor([3.0, 6.0, 9.0],\n",
        "                               dtype=None, # defaults to None, which is torch.float32 or whatever datatype is passed\n",
        "                               device=None, # defaults to None, which uses the default tensor type\n",
        "                               requires_grad=False) # if True, operations performed on the tensor are recorded\n",
        "\n",
        "float_32_tensor.shape, float_32_tensor.dtype, float_32_tensor.device"
      ],
      "metadata": {
        "id": "pDCYbKtU5-5P"
      },
      "execution_count": null,
      "outputs": []
    },
    {
      "cell_type": "markdown",
      "source": [
        "## Getting information from the Tensors"
      ],
      "metadata": {
        "id": "ZqA5wBKPpi90"
      }
    },
    {
      "cell_type": "markdown",
      "source": [
        "Three of the most common attributes you'll want to find out about tensors are:<br><br>\n",
        "shape - what shape is the tensor? (some operations require specific shape rules)<br>\n",
        "dtype - what datatype are the elements within the tensor stored in?<br>\n",
        "device - what device is the tensor stored on? (usually GPU or CPU)"
      ],
      "metadata": {
        "id": "XAa0xhopppZK"
      }
    },
    {
      "cell_type": "code",
      "source": [
        "random_tensor = torch.randint(low=0, high=10, size=(3, 3, 3))\n",
        "random_tensor"
      ],
      "metadata": {
        "colab": {
          "base_uri": "https://localhost:8080/"
        },
        "id": "jKHGSZw6plBT",
        "outputId": "3c35ddb4-b19e-438c-a606-d6cbb94681a4"
      },
      "execution_count": null,
      "outputs": [
        {
          "output_type": "execute_result",
          "data": {
            "text/plain": [
              "tensor([[[0, 4, 9],\n",
              "         [9, 7, 7],\n",
              "         [3, 4, 2]],\n",
              "\n",
              "        [[8, 9, 0],\n",
              "         [0, 2, 0],\n",
              "         [8, 0, 0]],\n",
              "\n",
              "        [[6, 0, 1],\n",
              "         [6, 5, 0],\n",
              "         [2, 4, 8]]])"
            ]
          },
          "metadata": {},
          "execution_count": 5
        }
      ]
    },
    {
      "cell_type": "code",
      "source": [
        "print(random_tensor.shape)\n",
        "print(random_tensor.dtype)\n",
        "print(random_tensor.device)"
      ],
      "metadata": {
        "colab": {
          "base_uri": "https://localhost:8080/"
        },
        "id": "HzcskurgqAa-",
        "outputId": "469c8d22-96ab-465d-ca34-8316013ddd7a"
      },
      "execution_count": null,
      "outputs": [
        {
          "output_type": "stream",
          "name": "stdout",
          "text": [
            "torch.Size([3, 3, 3])\n",
            "torch.int64\n",
            "cpu\n"
          ]
        }
      ]
    },
    {
      "cell_type": "markdown",
      "source": [
        "## Tensor operations (IMP)"
      ],
      "metadata": {
        "id": "uZyGbp9nqhwu"
      }
    },
    {
      "cell_type": "markdown",
      "source": [
        "In deep learning, data (images, text, video, audio, protein structures, etc) gets represented as tensors.\n",
        "\n",
        "A model learns by investigating those tensors and performing a series of operations (could be 1,000,000s+) on tensors to create a representation of the patterns in the input data.\n",
        "\n",
        "Stacking these building blocks in the right way, you can create the most sophisticated of neural networks (just like lego!).\n",
        "\n"
      ],
      "metadata": {
        "id": "S8WMUhkvqrxz"
      }
    },
    {
      "cell_type": "markdown",
      "source": [
        "### Basic operations"
      ],
      "metadata": {
        "id": "GS--dwiCrFTk"
      }
    },
    {
      "cell_type": "code",
      "source": [
        "tensor1 = torch.randint(1, 101, (3, 3))\n",
        "tensor2 = torch.randint(1, 101, (3, 3))\n",
        "print(tensor1)\n",
        "print(tensor2)"
      ],
      "metadata": {
        "colab": {
          "base_uri": "https://localhost:8080/"
        },
        "id": "E-Ts1Hh_rn15",
        "outputId": "becc6033-5ebc-4796-fd8c-a3d19af66016"
      },
      "execution_count": null,
      "outputs": [
        {
          "output_type": "stream",
          "name": "stdout",
          "text": [
            "tensor([[ 79,  42,  23],\n",
            "        [ 60,   3,  62],\n",
            "        [ 80,  72, 100]])\n",
            "tensor([[ 87,  48,  77],\n",
            "        [ 41,  99,  60],\n",
            "        [ 33, 100,  70]])\n"
          ]
        }
      ]
    },
    {
      "cell_type": "code",
      "source": [
        "print(\"Addition:\")\n",
        "print(tensor1 + tensor2)\n",
        "\n",
        "print(\"\\nSubtraction:\")\n",
        "print(tensor1 - tensor2)\n",
        "\n",
        "print(\"\\nMultiplication (element-wise):\")\n",
        "print(tensor1 * tensor2)\n",
        "\n",
        "print(\"\\nDivision:\")\n",
        "print(tensor1 / tensor2)\n",
        "\n",
        "print(\"\\nMatrix multiplication:\")\n",
        "print(torch.matmul(tensor1, tensor2))"
      ],
      "metadata": {
        "colab": {
          "base_uri": "https://localhost:8080/"
        },
        "id": "NUgK6Sokqjai",
        "outputId": "631c6742-a9fc-4868-bf6a-0c9713c056c6"
      },
      "execution_count": null,
      "outputs": [
        {
          "output_type": "stream",
          "name": "stdout",
          "text": [
            "Addition:\n",
            "tensor([[166,  90, 100],\n",
            "        [101, 102, 122],\n",
            "        [113, 172, 170]])\n",
            "\n",
            "Subtraction:\n",
            "tensor([[ -8,  -6, -54],\n",
            "        [ 19, -96,   2],\n",
            "        [ 47, -28,  30]])\n",
            "\n",
            "Multiplication (element-wise):\n",
            "tensor([[6873, 2016, 1771],\n",
            "        [2460,  297, 3720],\n",
            "        [2640, 7200, 7000]])\n",
            "\n",
            "Division:\n",
            "tensor([[0.9080, 0.8750, 0.2987],\n",
            "        [1.4634, 0.0303, 1.0333],\n",
            "        [2.4242, 0.7200, 1.4286]])\n",
            "\n",
            "Matrix multiplication:\n",
            "tensor([[ 9354, 10250, 10213],\n",
            "        [ 7389,  9377,  9140],\n",
            "        [13212, 20968, 17480]])\n",
            "\n"
          ]
        }
      ]
    },
    {
      "cell_type": "markdown",
      "source": [
        "NOTE: If we want to perform matrix multiplication between matrices of shape (a, b) and (c, d), 'b' must always be equal to 'c'."
      ],
      "metadata": {
        "id": "8hZmoUJ4siMd"
      }
    },
    {
      "cell_type": "code",
      "source": [
        "matrix_a = torch.randint(1, 101, (10, 3))\n",
        "matrix_b = torch.randint(1, 101, (2, 15))\n",
        "print(matrix_a)\n",
        "print(matrix_b)\n",
        "print(torch.matmul(matrix_a, matrix_b))    # GIVES ERROR AS 3 != 2"
      ],
      "metadata": {
        "colab": {
          "base_uri": "https://localhost:8080/",
          "height": 384
        },
        "id": "b1_1FvgrtIpD",
        "outputId": "1be1c1b3-73ee-49e3-f1f1-e47af925f03c"
      },
      "execution_count": null,
      "outputs": [
        {
          "output_type": "stream",
          "name": "stdout",
          "text": [
            "tensor([[61, 49, 37],\n",
            "        [86, 28, 17],\n",
            "        [ 8, 86, 11],\n",
            "        [82, 64, 97],\n",
            "        [14, 68, 86],\n",
            "        [73, 52, 24],\n",
            "        [42,  3, 97],\n",
            "        [78, 94, 38],\n",
            "        [35, 61, 45],\n",
            "        [57, 75, 48]])\n",
            "tensor([[69, 35,  9, 78, 63, 77, 83,  9, 10, 76, 13,  8, 30, 86, 79],\n",
            "        [60, 82, 13, 54, 14, 13, 63, 50, 11, 58, 17, 53, 37, 21, 32]])\n"
          ]
        },
        {
          "output_type": "error",
          "ename": "RuntimeError",
          "evalue": "mat1 and mat2 shapes cannot be multiplied (10x3 and 2x15)",
          "traceback": [
            "\u001b[0;31m---------------------------------------------------------------------------\u001b[0m",
            "\u001b[0;31mRuntimeError\u001b[0m                              Traceback (most recent call last)",
            "\u001b[0;32m<ipython-input-31-c0679bf8ad95>\u001b[0m in \u001b[0;36m<cell line: 5>\u001b[0;34m()\u001b[0m\n\u001b[1;32m      3\u001b[0m \u001b[0mprint\u001b[0m\u001b[0;34m(\u001b[0m\u001b[0mmatrix_a\u001b[0m\u001b[0;34m)\u001b[0m\u001b[0;34m\u001b[0m\u001b[0;34m\u001b[0m\u001b[0m\n\u001b[1;32m      4\u001b[0m \u001b[0mprint\u001b[0m\u001b[0;34m(\u001b[0m\u001b[0mmatrix_b\u001b[0m\u001b[0;34m)\u001b[0m\u001b[0;34m\u001b[0m\u001b[0;34m\u001b[0m\u001b[0m\n\u001b[0;32m----> 5\u001b[0;31m \u001b[0mprint\u001b[0m\u001b[0;34m(\u001b[0m\u001b[0mtorch\u001b[0m\u001b[0;34m.\u001b[0m\u001b[0mmatmul\u001b[0m\u001b[0;34m(\u001b[0m\u001b[0mmatrix_a\u001b[0m\u001b[0;34m,\u001b[0m \u001b[0mmatrix_b\u001b[0m\u001b[0;34m)\u001b[0m\u001b[0;34m)\u001b[0m    \u001b[0;31m# GIVES ERROR AS 3 != 2\u001b[0m\u001b[0;34m\u001b[0m\u001b[0;34m\u001b[0m\u001b[0m\n\u001b[0m",
            "\u001b[0;31mRuntimeError\u001b[0m: mat1 and mat2 shapes cannot be multiplied (10x3 and 2x15)"
          ]
        }
      ]
    },
    {
      "cell_type": "markdown",
      "source": [
        "### Transpose\n",
        "<br>The transpose of a matrix is an operation that flips the matrix over its diagonal, swapping the matrix's rows and columns.\n"
      ],
      "metadata": {
        "id": "E8f3C5L1vWyr"
      }
    },
    {
      "cell_type": "code",
      "source": [
        "matrix1 = torch.randint(1, 101, (3, 2))\n",
        "print(matrix1)\n",
        "print()\n",
        "print(matrix1.T)"
      ],
      "metadata": {
        "colab": {
          "base_uri": "https://localhost:8080/"
        },
        "id": "cBnf0DqRvbPu",
        "outputId": "e9587192-fee0-4e90-892e-cc6ab09bfc82"
      },
      "execution_count": null,
      "outputs": [
        {
          "output_type": "stream",
          "name": "stdout",
          "text": [
            "tensor([[76, 68],\n",
            "        [75, 75],\n",
            "        [48, 87]])\n",
            "\n",
            "tensor([[76, 75, 48],\n",
            "        [68, 75, 87]])\n"
          ]
        }
      ]
    },
    {
      "cell_type": "markdown",
      "source": [
        "### Aggregate operations (min, max, mean, sum, etc)"
      ],
      "metadata": {
        "id": "OCYwSy3UwDAZ"
      }
    },
    {
      "cell_type": "code",
      "source": [
        "matrix1 = torch.randint(1, 101, (3, 3))\n",
        "print(matrix1)"
      ],
      "metadata": {
        "id": "deI_IMDTwGWz",
        "colab": {
          "base_uri": "https://localhost:8080/"
        },
        "outputId": "8195eee0-4f6a-4543-9bac-489dedb137ca"
      },
      "execution_count": null,
      "outputs": [
        {
          "output_type": "stream",
          "name": "stdout",
          "text": [
            "tensor([[48, 63, 54],\n",
            "        [86, 18, 48],\n",
            "        [57, 23, 92]])\n"
          ]
        }
      ]
    },
    {
      "cell_type": "code",
      "source": [
        "print('\\nMIN:')\n",
        "print(matrix1.min())\n",
        "\n",
        "print('\\nMAX:')\n",
        "print(matrix1.max())\n",
        "\n",
        "print('\\nMEAN:')\n",
        "print(matrix1.type(torch.float32).mean())   # INPUT TENSOR MUST BE A FLOAT\n",
        "\n",
        "print('\\nSUM:')\n",
        "print(matrix1.sum())"
      ],
      "metadata": {
        "colab": {
          "base_uri": "https://localhost:8080/"
        },
        "id": "9HX1F1sScuBz",
        "outputId": "51789cde-a1b5-4488-b874-e139a59d4087"
      },
      "execution_count": null,
      "outputs": [
        {
          "output_type": "stream",
          "name": "stdout",
          "text": [
            "\n",
            "MIN:\n",
            "tensor(18)\n",
            "\n",
            "MAX:\n",
            "tensor(92)\n",
            "\n",
            "MEAN:\n",
            "tensor(54.3333)\n",
            "\n",
            "SUM:\n",
            "tensor(489)\n"
          ]
        }
      ]
    },
    {
      "cell_type": "markdown",
      "source": [
        "We can also find the index at which the 'min' and 'max' elements are present in the tensor."
      ],
      "metadata": {
        "id": "3Fne_9P2gLFf"
      }
    },
    {
      "cell_type": "code",
      "source": [
        "print(torch.argmin(matrix1))\n",
        "print(torch.argmax(matrix1))"
      ],
      "metadata": {
        "colab": {
          "base_uri": "https://localhost:8080/"
        },
        "id": "1fmLUaMcgPgy",
        "outputId": "f16b3adb-32af-459c-f549-123fc9aabcef"
      },
      "execution_count": null,
      "outputs": [
        {
          "output_type": "stream",
          "name": "stdout",
          "text": [
            "tensor(4)\n",
            "tensor(8)\n"
          ]
        }
      ]
    },
    {
      "cell_type": "markdown",
      "source": [
        "### Type-Casting Tensors"
      ],
      "metadata": {
        "id": "31hB-qb0debu"
      }
    },
    {
      "cell_type": "code",
      "source": [
        "print(matrix1.dtype)\n",
        "\n",
        "# TYPE-CASTING FROM INT64 -> FLOAT32\n",
        "matrix1 = matrix1.type(torch.float32)\n",
        "print(matrix1)\n",
        "print(matrix1.dtype)"
      ],
      "metadata": {
        "colab": {
          "base_uri": "https://localhost:8080/"
        },
        "id": "sC1vgsmcdacs",
        "outputId": "059f41a3-65f8-46c9-dc81-5db74b193455"
      },
      "execution_count": null,
      "outputs": [
        {
          "output_type": "stream",
          "name": "stdout",
          "text": [
            "torch.int64\n",
            "tensor([[48., 63., 54.],\n",
            "        [86., 18., 48.],\n",
            "        [57., 23., 92.]])\n",
            "torch.float32\n"
          ]
        }
      ]
    },
    {
      "cell_type": "markdown",
      "source": [
        "Note:\n",
        "\n",
        "Different datatypes can be confusing to begin with. But think of it like this, the lower the number (e.g. 32, 16, 8), the less precise a computer stores the value. And with a lower amount of storage, this generally results in faster computation and a smaller overall model. Mobile-based neural networks often operate with 8-bit integers, smaller and faster to run but less accurate than their float32 counterparts."
      ],
      "metadata": {
        "id": "iNlSjB11g-Y4"
      }
    },
    {
      "cell_type": "markdown",
      "source": [
        "### Reshape, stack, squeeze and unsqueeze"
      ],
      "metadata": {
        "id": "phEK7TDhwHHg"
      }
    },
    {
      "cell_type": "markdown",
      "source": [
        "| Method | Description |\n",
        "| ------ | ----------- |\n",
        "| torch.reshape(input, shape) | Reshapes input to shape (if compatible), can also use torch.Tensor.reshape(). |\n",
        "| Tensor.view(shape) | Returns a view of the original tensor in a different shape but shares the same data as the original tensor. |\n",
        "| torch.stack(tensors, dim=0) | Concatenates a sequence of tensors along a new dimension (dim), all tensors must be same size. |\n",
        "| torch.squeeze(input)\t | Squeezes input to remove all the dimenions with value 1. |\n",
        "| torch.unsqueeze(input, dim) | Returns input with a dimension value of 1 added at dim. |\n",
        "| torch.permute(input, dims) | Returns a view of the original input with its dimensions permuted (rearranged) to dims. |\n"
      ],
      "metadata": {
        "id": "BZJaSQqJpDNh"
      }
    },
    {
      "cell_type": "code",
      "source": [
        "pixel = torch.randint(1, 255, (3,))    # IMITATING ONE PIXEL OF AN IMAGE\n",
        "\n",
        "print(\"ORIGINAL:\")\n",
        "print(pixel)"
      ],
      "metadata": {
        "id": "HJEuiDyxwRID",
        "colab": {
          "base_uri": "https://localhost:8080/"
        },
        "outputId": "cc54838a-f2f5-4b3b-ebc0-15ecb776b5ec"
      },
      "execution_count": null,
      "outputs": [
        {
          "output_type": "stream",
          "name": "stdout",
          "text": [
            "ORIGINAL:\n",
            "tensor([ 43,  74, 113])\n"
          ]
        }
      ]
    },
    {
      "cell_type": "code",
      "source": [
        "print(\"RESHAPE:\")\n",
        "print(pixel.reshape(3,))    # APPARENTLY WE HAVE NO CHOICE BUT TO CHANGE THE TENSOR FROM 1D to 2D :("
      ],
      "metadata": {
        "colab": {
          "base_uri": "https://localhost:8080/"
        },
        "id": "H7Q8TDDcpA6g",
        "outputId": "5ceffc4f-8003-4067-ed78-fd8838f01ec3"
      },
      "execution_count": null,
      "outputs": [
        {
          "output_type": "stream",
          "name": "stdout",
          "text": [
            "RESHAPE:\n",
            "tensor([[ 43],\n",
            "        [ 74],\n",
            "        [113]])\n"
          ]
        }
      ]
    },
    {
      "cell_type": "code",
      "source": [
        "print(\"STACK:\")\n",
        "\n",
        "pixel1, pixel2, pixel3 = torch.randint(1, 255, (3,)), torch.randint(1, 255, (3,)), torch.randint(1, 255, (3,))\n",
        "pixel_stack = torch.stack((pixel1, pixel2, pixel3))\n",
        "\n",
        "print(pixel_stack)\n",
        "print(pixel_stack.shape)"
      ],
      "metadata": {
        "colab": {
          "base_uri": "https://localhost:8080/"
        },
        "id": "dxQJo_-BqeOK",
        "outputId": "6c5bc2c7-c7a5-4960-a511-c62fd6c065f2"
      },
      "execution_count": null,
      "outputs": [
        {
          "output_type": "stream",
          "name": "stdout",
          "text": [
            "STACK:\n",
            "tensor([[ 43, 158, 189],\n",
            "        [138, 189, 143],\n",
            "        [249, 115, 133]])\n",
            "torch.Size([3, 3])\n"
          ]
        }
      ]
    },
    {
      "cell_type": "code",
      "source": [
        "print(\"SQUEEZE:\")\n",
        "matrix_3d = torch.rand(1, 1, 3, 4)\n",
        "print(matrix_3d)\n",
        "print(matrix_3d.shape)\n",
        "print(matrix_3d.squeeze())\n",
        "print(matrix_3d.squeeze().shape)"
      ],
      "metadata": {
        "colab": {
          "base_uri": "https://localhost:8080/"
        },
        "id": "TCngyHgTtH3V",
        "outputId": "5d8b06a7-bdf6-4b59-bb8c-784e5a8173fa"
      },
      "execution_count": null,
      "outputs": [
        {
          "output_type": "stream",
          "name": "stdout",
          "text": [
            "SQUEEZE:\n",
            "tensor([[[[0.5780, 0.7649, 0.4838, 0.0752],\n",
            "          [0.2853, 0.0916, 0.7285, 0.7039],\n",
            "          [0.8359, 0.6318, 0.8675, 0.3397]]]])\n",
            "torch.Size([1, 1, 3, 4])\n",
            "tensor([[0.5780, 0.7649, 0.4838, 0.0752],\n",
            "        [0.2853, 0.0916, 0.7285, 0.7039],\n",
            "        [0.8359, 0.6318, 0.8675, 0.3397]])\n",
            "torch.Size([3, 4])\n"
          ]
        }
      ]
    },
    {
      "cell_type": "code",
      "source": [
        "print(\"UNSQUEEZE:\")\n",
        "matrix_3d = torch.rand(1, 1, 3, 4)\n",
        "print(matrix_3d.shape)\n",
        "print(matrix_3d.unsqueeze(3).shape)"
      ],
      "metadata": {
        "colab": {
          "base_uri": "https://localhost:8080/"
        },
        "id": "lJho2unQtJ4a",
        "outputId": "6cad0069-8521-4672-864a-6e8e7173865a"
      },
      "execution_count": null,
      "outputs": [
        {
          "output_type": "stream",
          "name": "stdout",
          "text": [
            "UNSQUEEZE:\n",
            "torch.Size([1, 1, 3, 4])\n",
            "torch.Size([1, 1, 3, 1, 4])\n"
          ]
        }
      ]
    },
    {
      "cell_type": "markdown",
      "source": [
        "Why do any of these?\n",
        "\n",
        "Because deep learning models (neural networks) are all about manipulating tensors in some way. And because of the rules of matrix multiplication, if you've got shape mismatches, you'll run into errors. These methods help you make sure the right elements of your tensors are mixing with the right elements of other tensors."
      ],
      "metadata": {
        "id": "r4KUezgEqYFT"
      }
    },
    {
      "cell_type": "markdown",
      "source": [
        "## Indexing (Selecting data from tensors)"
      ],
      "metadata": {
        "id": "-N-XsOVZmXYS"
      }
    },
    {
      "cell_type": "code",
      "source": [
        "big_tensor = torch.randint(1, 101, (4, 6))\n",
        "print(big_tensor)"
      ],
      "metadata": {
        "colab": {
          "base_uri": "https://localhost:8080/"
        },
        "id": "In5elPfumbSB",
        "outputId": "a342d277-add6-4360-d071-4d9e24cfa57a"
      },
      "execution_count": null,
      "outputs": [
        {
          "output_type": "stream",
          "name": "stdout",
          "text": [
            "tensor([[66, 41, 73, 74, 52, 72],\n",
            "        [24, 72, 41,  1, 83,  2],\n",
            "        [71, 24, 66, 53, 27, 24],\n",
            "        [13, 13, 49,  9, 36, 40]])\n"
          ]
        }
      ]
    },
    {
      "cell_type": "code",
      "source": [
        "print(\"Using indexing...\\n\")\n",
        "\n",
        "print(\"Find 3rd row\")\n",
        "print(big_tensor[2])\n",
        "\n",
        "print(\"\\nFind 5th element in last row\")\n",
        "print(big_tensor[-1][4])\n",
        "\n",
        "print(\"\\nFind 2nd column\")\n",
        "print(big_tensor[:, 1])\n",
        "\n",
        "print(\"\\nPrint every even row\")\n",
        "print(big_tensor[1::2])\n",
        "\n",
        "print(\"\\nPrint the second last row in reverse order\")\n",
        "print(big_tensor[-2][::-1])    # slicing with a negative step is not supported in PyTorch"
      ],
      "metadata": {
        "id": "79iNbm8qnJLe",
        "colab": {
          "base_uri": "https://localhost:8080/",
          "height": 454
        },
        "outputId": "33822792-835d-423c-9767-2de86e11ad82"
      },
      "execution_count": 16,
      "outputs": [
        {
          "output_type": "stream",
          "name": "stdout",
          "text": [
            "Using indexing...\n",
            "\n",
            "Find 3rd row\n",
            "tensor([71, 24, 66, 53, 27, 24])\n",
            "\n",
            "Find 5th element in last row\n",
            "tensor(36)\n",
            "\n",
            "Find 2nd column\n",
            "tensor([41, 72, 24, 13])\n",
            "\n",
            "Print every even row\n",
            "tensor([[24, 72, 41,  1, 83,  2],\n",
            "        [13, 13, 49,  9, 36, 40]])\n",
            "\n",
            "Print the second last row in reverse order\n"
          ]
        },
        {
          "output_type": "error",
          "ename": "ValueError",
          "evalue": "step must be greater than zero",
          "traceback": [
            "\u001b[0;31m---------------------------------------------------------------------------\u001b[0m",
            "\u001b[0;31mValueError\u001b[0m                                Traceback (most recent call last)",
            "\u001b[0;32m<ipython-input-16-5ba5321d614c>\u001b[0m in \u001b[0;36m<cell line: 16>\u001b[0;34m()\u001b[0m\n\u001b[1;32m     14\u001b[0m \u001b[0;34m\u001b[0m\u001b[0m\n\u001b[1;32m     15\u001b[0m \u001b[0mprint\u001b[0m\u001b[0;34m(\u001b[0m\u001b[0;34m\"\\nPrint the second last row in reverse order\"\u001b[0m\u001b[0;34m)\u001b[0m\u001b[0;34m\u001b[0m\u001b[0;34m\u001b[0m\u001b[0m\n\u001b[0;32m---> 16\u001b[0;31m \u001b[0mprint\u001b[0m\u001b[0;34m(\u001b[0m\u001b[0mbig_tensor\u001b[0m\u001b[0;34m[\u001b[0m\u001b[0;34m-\u001b[0m\u001b[0;36m2\u001b[0m\u001b[0;34m]\u001b[0m\u001b[0;34m[\u001b[0m\u001b[0;34m:\u001b[0m\u001b[0;34m:\u001b[0m\u001b[0;34m-\u001b[0m\u001b[0;36m1\u001b[0m\u001b[0;34m]\u001b[0m\u001b[0;34m)\u001b[0m\u001b[0;34m\u001b[0m\u001b[0;34m\u001b[0m\u001b[0m\n\u001b[0m",
            "\u001b[0;31mValueError\u001b[0m: step must be greater than zero"
          ]
        }
      ]
    },
    {
      "cell_type": "markdown",
      "source": [
        "## PyTorch and Numpy"
      ],
      "metadata": {
        "id": "uOI3JuLPqBFb"
      }
    },
    {
      "cell_type": "markdown",
      "source": [
        "Since NumPy is a popular Python numerical computing library, PyTorch has functionality to interact with it nicely.\n",
        "\n",
        "The two main methods you'll want to use for NumPy to PyTorch (and back again) are:\n",
        "\n",
        "torch.from_numpy(ndarray) - NumPy array -> PyTorch tensor.<br>\n",
        "torch.Tensor.numpy() - PyTorch tensor -> NumPy array.\n"
      ],
      "metadata": {
        "id": "mJ1BGeWMrX2a"
      }
    },
    {
      "cell_type": "code",
      "source": [
        "array = np.arange(1.0, 8.0)\n",
        "tensor = torch.from_numpy(array)\n",
        "array, tensor"
      ],
      "metadata": {
        "colab": {
          "base_uri": "https://localhost:8080/"
        },
        "id": "lyD0StC4qEho",
        "outputId": "21a3c949-eb9e-49b1-f1f1-db15c38ed0ea"
      },
      "execution_count": 19,
      "outputs": [
        {
          "output_type": "execute_result",
          "data": {
            "text/plain": [
              "(array([1., 2., 3., 4., 5., 6., 7.]),\n",
              " tensor([1., 2., 3., 4., 5., 6., 7.], dtype=torch.float64))"
            ]
          },
          "metadata": {},
          "execution_count": 19
        }
      ]
    },
    {
      "cell_type": "code",
      "source": [
        "tensor.numpy()"
      ],
      "metadata": {
        "colab": {
          "base_uri": "https://localhost:8080/"
        },
        "id": "u51DpHazuJHZ",
        "outputId": "6715a293-15de-4530-a6e3-809e9beeef30"
      },
      "execution_count": 20,
      "outputs": [
        {
          "output_type": "execute_result",
          "data": {
            "text/plain": [
              "array([1., 2., 3., 4., 5., 6., 7.])"
            ]
          },
          "metadata": {},
          "execution_count": 20
        }
      ]
    },
    {
      "cell_type": "markdown",
      "source": [
        "## Controlling randomness"
      ],
      "metadata": {
        "id": "XNhPfguNvsQs"
      }
    },
    {
      "cell_type": "markdown",
      "source": [
        "When working with tensors, there will be lots of random values involved. But sometimes, you'd like there to be a little less randomness. To avoid randomness, we pass the <b>MANUAL_SEED</b> arguement."
      ],
      "metadata": {
        "id": "uPQYGEc7xPmu"
      }
    },
    {
      "cell_type": "markdown",
      "source": [
        "### Without 'manual_seed'"
      ],
      "metadata": {
        "id": "TyK2y0OPytSL"
      }
    },
    {
      "cell_type": "code",
      "source": [
        "random_array = torch.rand(10)\n",
        "print(random_array)"
      ],
      "metadata": {
        "colab": {
          "base_uri": "https://localhost:8080/"
        },
        "id": "9KXyC9bYyKCK",
        "outputId": "3a116519-3f01-4fc3-8649-ef5eaf4bab19"
      },
      "execution_count": 27,
      "outputs": [
        {
          "output_type": "stream",
          "name": "stdout",
          "text": [
            "tensor([0.9346, 0.5936, 0.8694, 0.5677, 0.7411, 0.4294, 0.8854, 0.5739, 0.2666,\n",
            "        0.6274])\n"
          ]
        }
      ]
    },
    {
      "cell_type": "code",
      "source": [
        "random_array = torch.rand(10)\n",
        "print(random_array)"
      ],
      "metadata": {
        "colab": {
          "base_uri": "https://localhost:8080/"
        },
        "id": "clQc5SdvysHx",
        "outputId": "e24ee017-de69-4cc1-f499-964cee029db8"
      },
      "execution_count": 28,
      "outputs": [
        {
          "output_type": "stream",
          "name": "stdout",
          "text": [
            "tensor([0.2696, 0.4414, 0.2969, 0.8317, 0.1053, 0.2695, 0.3588, 0.1994, 0.5472,\n",
            "        0.0062])\n"
          ]
        }
      ]
    },
    {
      "cell_type": "markdown",
      "source": [
        "### With 'manual_seed'"
      ],
      "metadata": {
        "id": "QSrSSTTNyyHS"
      }
    },
    {
      "cell_type": "code",
      "source": [
        "torch.manual_seed(42)\n",
        "\n",
        "random_array = torch.rand(10)\n",
        "print(random_array)"
      ],
      "metadata": {
        "colab": {
          "base_uri": "https://localhost:8080/"
        },
        "id": "fBGAjcwxyRsS",
        "outputId": "f6688264-ece3-4c98-f33e-e31fc9ce3b39"
      },
      "execution_count": 25,
      "outputs": [
        {
          "output_type": "stream",
          "name": "stdout",
          "text": [
            "tensor([0.8823, 0.9150, 0.3829, 0.9593, 0.3904, 0.6009, 0.2566, 0.7936, 0.9408,\n",
            "        0.1332])\n"
          ]
        }
      ]
    },
    {
      "cell_type": "code",
      "source": [
        "torch.manual_seed(42)\n",
        "\n",
        "random_array = torch.rand(10)\n",
        "print(random_array)"
      ],
      "metadata": {
        "colab": {
          "base_uri": "https://localhost:8080/"
        },
        "id": "BLzTOYJeyon7",
        "outputId": "7f83c2ed-44bf-4c79-dc7a-461e3091b31c"
      },
      "execution_count": 26,
      "outputs": [
        {
          "output_type": "stream",
          "name": "stdout",
          "text": [
            "tensor([0.8823, 0.9150, 0.3829, 0.9593, 0.3904, 0.6009, 0.2566, 0.7936, 0.9408,\n",
            "        0.1332])\n"
          ]
        }
      ]
    },
    {
      "cell_type": "markdown",
      "source": [
        "Example of Why We Need 'manual_seed'\n",
        "\n",
        "Imagine you're training a neural network for a classification task. Without setting a seed, the weights of the network might be initialized differently every time you run the training code, leading to different model performance each time. This makes it difficult to debug or compare results, as you can't be sure if a change in performance is due to code modifications or random variation."
      ],
      "metadata": {
        "id": "8whzteZ7xMxZ"
      }
    }
  ]
}